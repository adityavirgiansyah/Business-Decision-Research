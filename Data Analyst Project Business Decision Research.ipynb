{
 "cells": [
  {
   "cell_type": "code",
   "execution_count": 1,
   "id": "e45c18a2",
   "metadata": {},
   "outputs": [],
   "source": [
    "import pandas as pd\n",
    "import matplotlib.pyplot as plt\n",
    "import seaborn as sns\n",
    "import numpy as np\n",
    "from sklearn.preprocessing import LabelEncoder\n",
    "from sklearn.model_selection import train_test_split\n",
    "from sklearn.linear_model import LogisticRegression\n",
    "from sklearn.metrics import confusion_matrix\n",
    "from sklearn.metrics import accuracy_score, precision_score, recall_score\n",
    "%matplotlib inline"
   ]
  },
  {
   "cell_type": "markdown",
   "id": "4bc79792",
   "metadata": {},
   "source": [
    "## IMPORTING DATA "
   ]
  },
  {
   "cell_type": "code",
   "execution_count": 2,
   "id": "d728738d",
   "metadata": {},
   "outputs": [
    {
     "data": {
      "text/html": [
       "<div>\n",
       "<style scoped>\n",
       "    .dataframe tbody tr th:only-of-type {\n",
       "        vertical-align: middle;\n",
       "    }\n",
       "\n",
       "    .dataframe tbody tr th {\n",
       "        vertical-align: top;\n",
       "    }\n",
       "\n",
       "    .dataframe thead th {\n",
       "        text-align: right;\n",
       "    }\n",
       "</style>\n",
       "<table border=\"1\" class=\"dataframe\">\n",
       "  <thead>\n",
       "    <tr style=\"text-align: right;\">\n",
       "      <th></th>\n",
       "      <th>no</th>\n",
       "      <th>Row_Num</th>\n",
       "      <th>Customer_ID</th>\n",
       "      <th>Product</th>\n",
       "      <th>First_Transaction</th>\n",
       "      <th>Last_Transaction</th>\n",
       "      <th>Average_Transaction_Amount</th>\n",
       "      <th>Count_Transaction</th>\n",
       "    </tr>\n",
       "  </thead>\n",
       "  <tbody>\n",
       "    <tr>\n",
       "      <th>0</th>\n",
       "      <td>1</td>\n",
       "      <td>1</td>\n",
       "      <td>29531</td>\n",
       "      <td>Jaket</td>\n",
       "      <td>1466304274396</td>\n",
       "      <td>1538718482608</td>\n",
       "      <td>1467681</td>\n",
       "      <td>22</td>\n",
       "    </tr>\n",
       "    <tr>\n",
       "      <th>1</th>\n",
       "      <td>2</td>\n",
       "      <td>2</td>\n",
       "      <td>29531</td>\n",
       "      <td>Sepatu</td>\n",
       "      <td>1406077331494</td>\n",
       "      <td>1545735761270</td>\n",
       "      <td>1269337</td>\n",
       "      <td>41</td>\n",
       "    </tr>\n",
       "    <tr>\n",
       "      <th>2</th>\n",
       "      <td>3</td>\n",
       "      <td>3</td>\n",
       "      <td>141526</td>\n",
       "      <td>Tas</td>\n",
       "      <td>1493349147000</td>\n",
       "      <td>1548322802000</td>\n",
       "      <td>310915</td>\n",
       "      <td>30</td>\n",
       "    </tr>\n",
       "    <tr>\n",
       "      <th>3</th>\n",
       "      <td>4</td>\n",
       "      <td>4</td>\n",
       "      <td>141526</td>\n",
       "      <td>Jaket</td>\n",
       "      <td>1493362372547</td>\n",
       "      <td>1547643603911</td>\n",
       "      <td>722632</td>\n",
       "      <td>27</td>\n",
       "    </tr>\n",
       "    <tr>\n",
       "      <th>4</th>\n",
       "      <td>5</td>\n",
       "      <td>5</td>\n",
       "      <td>37545</td>\n",
       "      <td>Sepatu</td>\n",
       "      <td>1429178498531</td>\n",
       "      <td>1542891221530</td>\n",
       "      <td>1775036</td>\n",
       "      <td>25</td>\n",
       "    </tr>\n",
       "  </tbody>\n",
       "</table>\n",
       "</div>"
      ],
      "text/plain": [
       "   no  Row_Num  Customer_ID Product  First_Transaction  Last_Transaction  \\\n",
       "0   1        1        29531   Jaket      1466304274396     1538718482608   \n",
       "1   2        2        29531  Sepatu      1406077331494     1545735761270   \n",
       "2   3        3       141526     Tas      1493349147000     1548322802000   \n",
       "3   4        4       141526   Jaket      1493362372547     1547643603911   \n",
       "4   5        5        37545  Sepatu      1429178498531     1542891221530   \n",
       "\n",
       "   Average_Transaction_Amount  Count_Transaction  \n",
       "0                     1467681                 22  \n",
       "1                     1269337                 41  \n",
       "2                      310915                 30  \n",
       "3                      722632                 27  \n",
       "4                     1775036                 25  "
      ]
     },
     "execution_count": 2,
     "metadata": {},
     "output_type": "execute_result"
    }
   ],
   "source": [
    "data = pd.read_csv('data_retail.csv', sep=';')\n",
    "data.head()"
   ]
  },
  {
   "cell_type": "markdown",
   "id": "f27716e0",
   "metadata": {},
   "source": [
    "## DATA CLEANING"
   ]
  },
  {
   "cell_type": "code",
   "execution_count": 3,
   "id": "14fae2f5",
   "metadata": {},
   "outputs": [
    {
     "name": "stdout",
     "output_type": "stream",
     "text": [
      "<class 'pandas.core.frame.DataFrame'>\n",
      "RangeIndex: 100000 entries, 0 to 99999\n",
      "Data columns (total 8 columns):\n",
      " #   Column                      Non-Null Count   Dtype \n",
      "---  ------                      --------------   ----- \n",
      " 0   no                          100000 non-null  int64 \n",
      " 1   Row_Num                     100000 non-null  int64 \n",
      " 2   Customer_ID                 100000 non-null  int64 \n",
      " 3   Product                     100000 non-null  object\n",
      " 4   First_Transaction           100000 non-null  int64 \n",
      " 5   Last_Transaction            100000 non-null  int64 \n",
      " 6   Average_Transaction_Amount  100000 non-null  int64 \n",
      " 7   Count_Transaction           100000 non-null  int64 \n",
      "dtypes: int64(7), object(1)\n",
      "memory usage: 6.1+ MB\n"
     ]
    }
   ],
   "source": [
    "data.info()"
   ]
  },
  {
   "cell_type": "code",
   "execution_count": 4,
   "id": "e897c495",
   "metadata": {},
   "outputs": [
    {
     "data": {
      "text/html": [
       "<div>\n",
       "<style scoped>\n",
       "    .dataframe tbody tr th:only-of-type {\n",
       "        vertical-align: middle;\n",
       "    }\n",
       "\n",
       "    .dataframe tbody tr th {\n",
       "        vertical-align: top;\n",
       "    }\n",
       "\n",
       "    .dataframe thead th {\n",
       "        text-align: right;\n",
       "    }\n",
       "</style>\n",
       "<table border=\"1\" class=\"dataframe\">\n",
       "  <thead>\n",
       "    <tr style=\"text-align: right;\">\n",
       "      <th></th>\n",
       "      <th>no</th>\n",
       "      <th>Row_Num</th>\n",
       "      <th>Customer_ID</th>\n",
       "      <th>First_Transaction</th>\n",
       "      <th>Last_Transaction</th>\n",
       "      <th>Average_Transaction_Amount</th>\n",
       "      <th>Count_Transaction</th>\n",
       "    </tr>\n",
       "  </thead>\n",
       "  <tbody>\n",
       "    <tr>\n",
       "      <th>count</th>\n",
       "      <td>100000.000000</td>\n",
       "      <td>100000.000000</td>\n",
       "      <td>100000.000000</td>\n",
       "      <td>1.000000e+05</td>\n",
       "      <td>1.000000e+05</td>\n",
       "      <td>1.000000e+05</td>\n",
       "      <td>100000.000000</td>\n",
       "    </tr>\n",
       "    <tr>\n",
       "      <th>mean</th>\n",
       "      <td>50000.500000</td>\n",
       "      <td>50000.500000</td>\n",
       "      <td>193083.996940</td>\n",
       "      <td>1.492184e+12</td>\n",
       "      <td>1.509970e+12</td>\n",
       "      <td>1.373157e+06</td>\n",
       "      <td>11.698500</td>\n",
       "    </tr>\n",
       "    <tr>\n",
       "      <th>std</th>\n",
       "      <td>28867.657797</td>\n",
       "      <td>28867.657797</td>\n",
       "      <td>200747.292955</td>\n",
       "      <td>3.948432e+10</td>\n",
       "      <td>3.563295e+10</td>\n",
       "      <td>1.544435e+06</td>\n",
       "      <td>35.417324</td>\n",
       "    </tr>\n",
       "    <tr>\n",
       "      <th>min</th>\n",
       "      <td>1.000000</td>\n",
       "      <td>1.000000</td>\n",
       "      <td>654.000000</td>\n",
       "      <td>1.362729e+12</td>\n",
       "      <td>1.362729e+12</td>\n",
       "      <td>0.000000e+00</td>\n",
       "      <td>1.000000</td>\n",
       "    </tr>\n",
       "    <tr>\n",
       "      <th>25%</th>\n",
       "      <td>25000.750000</td>\n",
       "      <td>25000.750000</td>\n",
       "      <td>60994.500000</td>\n",
       "      <td>1.467106e+12</td>\n",
       "      <td>1.491482e+12</td>\n",
       "      <td>4.783038e+05</td>\n",
       "      <td>1.000000</td>\n",
       "    </tr>\n",
       "    <tr>\n",
       "      <th>50%</th>\n",
       "      <td>50000.500000</td>\n",
       "      <td>50000.500000</td>\n",
       "      <td>121441.000000</td>\n",
       "      <td>1.499012e+12</td>\n",
       "      <td>1.518611e+12</td>\n",
       "      <td>9.059370e+05</td>\n",
       "      <td>2.000000</td>\n",
       "    </tr>\n",
       "    <tr>\n",
       "      <th>75%</th>\n",
       "      <td>75000.250000</td>\n",
       "      <td>75000.250000</td>\n",
       "      <td>196023.000000</td>\n",
       "      <td>1.523675e+12</td>\n",
       "      <td>1.539695e+12</td>\n",
       "      <td>1.636372e+06</td>\n",
       "      <td>6.000000</td>\n",
       "    </tr>\n",
       "    <tr>\n",
       "      <th>max</th>\n",
       "      <td>100000.000000</td>\n",
       "      <td>100000.000000</td>\n",
       "      <td>846213.000000</td>\n",
       "      <td>1.549061e+12</td>\n",
       "      <td>1.549065e+12</td>\n",
       "      <td>4.881014e+07</td>\n",
       "      <td>3852.000000</td>\n",
       "    </tr>\n",
       "  </tbody>\n",
       "</table>\n",
       "</div>"
      ],
      "text/plain": [
       "                  no        Row_Num    Customer_ID  First_Transaction  \\\n",
       "count  100000.000000  100000.000000  100000.000000       1.000000e+05   \n",
       "mean    50000.500000   50000.500000  193083.996940       1.492184e+12   \n",
       "std     28867.657797   28867.657797  200747.292955       3.948432e+10   \n",
       "min         1.000000       1.000000     654.000000       1.362729e+12   \n",
       "25%     25000.750000   25000.750000   60994.500000       1.467106e+12   \n",
       "50%     50000.500000   50000.500000  121441.000000       1.499012e+12   \n",
       "75%     75000.250000   75000.250000  196023.000000       1.523675e+12   \n",
       "max    100000.000000  100000.000000  846213.000000       1.549061e+12   \n",
       "\n",
       "       Last_Transaction  Average_Transaction_Amount  Count_Transaction  \n",
       "count      1.000000e+05                1.000000e+05      100000.000000  \n",
       "mean       1.509970e+12                1.373157e+06          11.698500  \n",
       "std        3.563295e+10                1.544435e+06          35.417324  \n",
       "min        1.362729e+12                0.000000e+00           1.000000  \n",
       "25%        1.491482e+12                4.783038e+05           1.000000  \n",
       "50%        1.518611e+12                9.059370e+05           2.000000  \n",
       "75%        1.539695e+12                1.636372e+06           6.000000  \n",
       "max        1.549065e+12                4.881014e+07        3852.000000  "
      ]
     },
     "execution_count": 4,
     "metadata": {},
     "output_type": "execute_result"
    }
   ],
   "source": [
    "data.describe()"
   ]
  },
  {
   "cell_type": "code",
   "execution_count": 5,
   "id": "31983717",
   "metadata": {},
   "outputs": [
    {
     "data": {
      "text/plain": [
       "no                            0\n",
       "Row_Num                       0\n",
       "Customer_ID                   0\n",
       "Product                       0\n",
       "First_Transaction             0\n",
       "Last_Transaction              0\n",
       "Average_Transaction_Amount    0\n",
       "Count_Transaction             0\n",
       "dtype: int64"
      ]
     },
     "execution_count": 5,
     "metadata": {},
     "output_type": "execute_result"
    }
   ],
   "source": [
    "data.isnull().sum()"
   ]
  },
  {
   "cell_type": "code",
   "execution_count": 6,
   "id": "ad46e881",
   "metadata": {},
   "outputs": [],
   "source": [
    "# Drop column 'no' and 'Row_Num'\n",
    "data.drop(['no', 'Row_Num'],axis=1, inplace=True)"
   ]
  },
  {
   "cell_type": "code",
   "execution_count": 7,
   "id": "c1ba2edf",
   "metadata": {},
   "outputs": [
    {
     "name": "stdout",
     "output_type": "stream",
     "text": [
      "<class 'pandas.core.frame.DataFrame'>\n",
      "RangeIndex: 100000 entries, 0 to 99999\n",
      "Data columns (total 6 columns):\n",
      " #   Column                      Non-Null Count   Dtype \n",
      "---  ------                      --------------   ----- \n",
      " 0   Customer_ID                 100000 non-null  int64 \n",
      " 1   Product                     100000 non-null  object\n",
      " 2   First_Transaction           100000 non-null  int64 \n",
      " 3   Last_Transaction            100000 non-null  int64 \n",
      " 4   Average_Transaction_Amount  100000 non-null  int64 \n",
      " 5   Count_Transaction           100000 non-null  int64 \n",
      "dtypes: int64(5), object(1)\n",
      "memory usage: 4.6+ MB\n"
     ]
    }
   ],
   "source": [
    "data.info()"
   ]
  },
  {
   "cell_type": "code",
   "execution_count": 8,
   "id": "a14e28a6",
   "metadata": {},
   "outputs": [],
   "source": [
    "# change column First_Transaction and Last_Transaction to datetime type\n",
    "# Column First_Transaction\n",
    "data['First_Transaction'] = pd.to_datetime(data['First_Transaction']/1000, unit='s', origin='1970-01-01')\n",
    "# Column Last_Transaction\n",
    "data['Last_Transaction'] = pd.to_datetime(data['Last_Transaction']/1000, unit='s', origin='1970-01-01')"
   ]
  },
  {
   "cell_type": "code",
   "execution_count": 9,
   "id": "3ea3a894",
   "metadata": {},
   "outputs": [
    {
     "name": "stdout",
     "output_type": "stream",
     "text": [
      "<class 'pandas.core.frame.DataFrame'>\n",
      "RangeIndex: 100000 entries, 0 to 99999\n",
      "Data columns (total 6 columns):\n",
      " #   Column                      Non-Null Count   Dtype         \n",
      "---  ------                      --------------   -----         \n",
      " 0   Customer_ID                 100000 non-null  int64         \n",
      " 1   Product                     100000 non-null  object        \n",
      " 2   First_Transaction           100000 non-null  datetime64[ns]\n",
      " 3   Last_Transaction            100000 non-null  datetime64[ns]\n",
      " 4   Average_Transaction_Amount  100000 non-null  int64         \n",
      " 5   Count_Transaction           100000 non-null  int64         \n",
      "dtypes: datetime64[ns](2), int64(3), object(1)\n",
      "memory usage: 4.6+ MB\n"
     ]
    }
   ],
   "source": [
    "data.head()\n",
    "data.info()"
   ]
  },
  {
   "cell_type": "markdown",
   "id": "35bb42aa",
   "metadata": {},
   "source": [
    "### Churn Customer\n",
    "### To determine churn customers according to the given definition, look for\n",
    "- When was the most recent transaction made?\n",
    "- classify which customers are churn statuses and which are not. After that print the top five data and dataset information."
   ]
  },
  {
   "cell_type": "code",
   "execution_count": 10,
   "id": "fcd75a52",
   "metadata": {},
   "outputs": [],
   "source": [
    "# Checking the last transaction in the dataset\n",
    "max(data['Last_Transaction'])\n",
    "\n",
    "# Classify customers who have churn status or not with boolean\n",
    "data.loc[data['Last_Transaction'] <= '2018-08-01', 'is_churn'] = True\n",
    "data.loc[data['Last_Transaction'] > '2018-08-01', 'is_churn'] = False"
   ]
  },
  {
   "cell_type": "code",
   "execution_count": 11,
   "id": "55c56474",
   "metadata": {},
   "outputs": [
    {
     "data": {
      "text/html": [
       "<div>\n",
       "<style scoped>\n",
       "    .dataframe tbody tr th:only-of-type {\n",
       "        vertical-align: middle;\n",
       "    }\n",
       "\n",
       "    .dataframe tbody tr th {\n",
       "        vertical-align: top;\n",
       "    }\n",
       "\n",
       "    .dataframe thead th {\n",
       "        text-align: right;\n",
       "    }\n",
       "</style>\n",
       "<table border=\"1\" class=\"dataframe\">\n",
       "  <thead>\n",
       "    <tr style=\"text-align: right;\">\n",
       "      <th></th>\n",
       "      <th>Customer_ID</th>\n",
       "      <th>Product</th>\n",
       "      <th>First_Transaction</th>\n",
       "      <th>Last_Transaction</th>\n",
       "      <th>Average_Transaction_Amount</th>\n",
       "      <th>Count_Transaction</th>\n",
       "      <th>is_churn</th>\n",
       "    </tr>\n",
       "  </thead>\n",
       "  <tbody>\n",
       "    <tr>\n",
       "      <th>0</th>\n",
       "      <td>29531</td>\n",
       "      <td>Jaket</td>\n",
       "      <td>2016-06-19 02:44:34.396000000</td>\n",
       "      <td>2018-10-05 05:48:02.608000000</td>\n",
       "      <td>1467681</td>\n",
       "      <td>22</td>\n",
       "      <td>False</td>\n",
       "    </tr>\n",
       "    <tr>\n",
       "      <th>1</th>\n",
       "      <td>29531</td>\n",
       "      <td>Sepatu</td>\n",
       "      <td>2014-07-23 01:02:11.493999872</td>\n",
       "      <td>2018-12-25 11:02:41.269999872</td>\n",
       "      <td>1269337</td>\n",
       "      <td>41</td>\n",
       "      <td>False</td>\n",
       "    </tr>\n",
       "    <tr>\n",
       "      <th>2</th>\n",
       "      <td>141526</td>\n",
       "      <td>Tas</td>\n",
       "      <td>2017-04-28 03:12:27.000000000</td>\n",
       "      <td>2019-01-24 09:40:02.000000000</td>\n",
       "      <td>310915</td>\n",
       "      <td>30</td>\n",
       "      <td>False</td>\n",
       "    </tr>\n",
       "    <tr>\n",
       "      <th>3</th>\n",
       "      <td>141526</td>\n",
       "      <td>Jaket</td>\n",
       "      <td>2017-04-28 06:52:52.546999808</td>\n",
       "      <td>2019-01-16 13:00:03.911000064</td>\n",
       "      <td>722632</td>\n",
       "      <td>27</td>\n",
       "      <td>False</td>\n",
       "    </tr>\n",
       "    <tr>\n",
       "      <th>4</th>\n",
       "      <td>37545</td>\n",
       "      <td>Sepatu</td>\n",
       "      <td>2015-04-16 10:01:38.530999808</td>\n",
       "      <td>2018-11-22 12:53:41.529999872</td>\n",
       "      <td>1775036</td>\n",
       "      <td>25</td>\n",
       "      <td>False</td>\n",
       "    </tr>\n",
       "  </tbody>\n",
       "</table>\n",
       "</div>"
      ],
      "text/plain": [
       "   Customer_ID Product             First_Transaction  \\\n",
       "0        29531   Jaket 2016-06-19 02:44:34.396000000   \n",
       "1        29531  Sepatu 2014-07-23 01:02:11.493999872   \n",
       "2       141526     Tas 2017-04-28 03:12:27.000000000   \n",
       "3       141526   Jaket 2017-04-28 06:52:52.546999808   \n",
       "4        37545  Sepatu 2015-04-16 10:01:38.530999808   \n",
       "\n",
       "               Last_Transaction  Average_Transaction_Amount  \\\n",
       "0 2018-10-05 05:48:02.608000000                     1467681   \n",
       "1 2018-12-25 11:02:41.269999872                     1269337   \n",
       "2 2019-01-24 09:40:02.000000000                      310915   \n",
       "3 2019-01-16 13:00:03.911000064                      722632   \n",
       "4 2018-11-22 12:53:41.529999872                     1775036   \n",
       "\n",
       "   Count_Transaction is_churn  \n",
       "0                 22    False  \n",
       "1                 41    False  \n",
       "2                 30    False  \n",
       "3                 27    False  \n",
       "4                 25    False  "
      ]
     },
     "execution_count": 11,
     "metadata": {},
     "output_type": "execute_result"
    }
   ],
   "source": [
    "data.head()"
   ]
  },
  {
   "cell_type": "code",
   "execution_count": 12,
   "id": "bd14ea8f",
   "metadata": {},
   "outputs": [
    {
     "data": {
      "text/plain": [
       "True     66569\n",
       "False    33431\n",
       "Name: is_churn, dtype: int64"
      ]
     },
     "execution_count": 12,
     "metadata": {},
     "output_type": "execute_result"
    }
   ],
   "source": [
    "data['is_churn'].value_counts()"
   ]
  },
  {
   "cell_type": "markdown",
   "id": "c4c9da07",
   "metadata": {},
   "source": [
    "## Convert is_churn column value to numeric using Label Encoder\n"
   ]
  },
  {
   "cell_type": "code",
   "execution_count": 13,
   "id": "27cf02e9",
   "metadata": {},
   "outputs": [
    {
     "name": "stdout",
     "output_type": "stream",
     "text": [
      "[False True]\n",
      "[0 1]\n",
      "\n"
     ]
    }
   ],
   "source": [
    "# Convert feature/column 'Month'\n",
    "LE = LabelEncoder()\n",
    "data['is_churn'] = LE.fit_transform(data['is_churn'])\n",
    "print(LE.classes_)\n",
    "print(np.sort(data['is_churn'].unique()))\n",
    "print('')"
   ]
  },
  {
   "cell_type": "code",
   "execution_count": 14,
   "id": "8ed5df7d",
   "metadata": {},
   "outputs": [
    {
     "data": {
      "text/plain": [
       "0        0\n",
       "1        0\n",
       "2        0\n",
       "3        0\n",
       "4        0\n",
       "        ..\n",
       "99995    1\n",
       "99996    1\n",
       "99997    1\n",
       "99998    1\n",
       "99999    0\n",
       "Name: is_churn, Length: 100000, dtype: int32"
      ]
     },
     "execution_count": 14,
     "metadata": {},
     "output_type": "execute_result"
    }
   ],
   "source": [
    "data['is_churn']"
   ]
  },
  {
   "cell_type": "markdown",
   "id": "2d426e4a",
   "metadata": {},
   "source": [
    "## EDA"
   ]
  },
  {
   "cell_type": "markdown",
   "id": "160bf64f",
   "metadata": {},
   "source": [
    "### Customer acquisition by year"
   ]
  },
  {
   "cell_type": "code",
   "execution_count": 15,
   "id": "1b6496fc",
   "metadata": {},
   "outputs": [
    {
     "data": {
      "image/png": "[encoded data removed]",
      "text/plain": [
       "<Figure size 432x288 with 1 Axes>"
      ]
     },
     "metadata": {
      "needs_background": "light"
     },
     "output_type": "display_data"
    }
   ],
   "source": [
    "# first transaction column Year\n",
    "data['Year_First_Transaction'] = data['First_Transaction'].dt.year\n",
    "# last transaction column year\n",
    "data['Year_Last_Transaction'] = data['Last_Transaction'].dt.year\n",
    "\n",
    "data_year = data.groupby(['Year_First_Transaction'])['Customer_ID'].count()\n",
    "data_year.plot(x='Year_First_Transaction', y='Customer_ID', kind='barh', title='raph of Customer Acquisition')\n",
    "plt.axvline(31828, color = \"r\", linestyle = '--')\n",
    "plt.ylabel('Year_First_Transaction')\n",
    "plt.xlabel('Num of Customer')\n",
    "plt.show()"
   ]
  },
  {
   "cell_type": "markdown",
   "id": "9cf65c5e",
   "metadata": {},
   "source": [
    "### Transaction by Year"
   ]
  },
  {
   "cell_type": "code",
   "execution_count": 16,
   "id": "b430de34",
   "metadata": {},
   "outputs": [
    {
     "data": {
      "image/png": "[encoded data removed]",
      "text/plain": [
       "<Figure size 432x288 with 1 Axes>"
      ]
     },
     "metadata": {
      "needs_background": "light"
     },
     "output_type": "display_data"
    }
   ],
   "source": [
    "plt.clf()\n",
    "data_year = data.groupby(['Year_First_Transaction'])['Count_Transaction'].sum()\n",
    "data_year.plot(x='Year_First_Transaction', y='Count_Transaction', kind='barh', title='Graph of Transaction Customer')\n",
    "plt.axvline(300000, color = \"r\", linestyle = '--')\n",
    "plt.ylabel('Year_First_Transaction')\n",
    "plt.xlabel('Num_of_Transaction')\n",
    "plt.tight_layout()\n",
    "plt.show()"
   ]
  },
  {
   "cell_type": "markdown",
   "id": "baef0e27",
   "metadata": {},
   "source": [
    "### Average transaction amount by year"
   ]
  },
  {
   "cell_type": "code",
   "execution_count": 17,
   "id": "908d2c31",
   "metadata": {},
   "outputs": [
    {
     "data": {
      "image/png": "[encoded data removed]",
      "text/plain": [
       "<Figure size 432x288 with 1 Axes>"
      ]
     },
     "metadata": {
      "needs_background": "light"
     },
     "output_type": "display_data"
    }
   ],
   "source": [
    "plt.clf()\n",
    "sns.pointplot(data = data.groupby(['Product', 'Year_First_Transaction']).mean().reset_index(), \n",
    "              x='Year_First_Transaction', \n",
    "              y='Average_Transaction_Amount', \n",
    "              hue='Product')\n",
    "plt.tight_layout()\n",
    "plt.show()"
   ]
  },
  {
   "cell_type": "markdown",
   "id": "04434746",
   "metadata": {},
   "source": [
    "### The proportion of churned customers for each product"
   ]
  },
  {
   "cell_type": "code",
   "execution_count": 18,
   "id": "8c26e724",
   "metadata": {},
   "outputs": [
    {
     "data": {
      "text/plain": [
       "<Figure size 432x288 with 0 Axes>"
      ]
     },
     "metadata": {},
     "output_type": "display_data"
    },
    {
     "data": {
      "image/png": "[encoded data removed]",
      "text/plain": [
       "<Figure size 720x504 with 4 Axes>"
      ]
     },
     "metadata": {},
     "output_type": "display_data"
    }
   ],
   "source": [
    "plt.clf()\n",
    "\n",
    "# pivot data\n",
    "data_piv = data.pivot_table(index='is_churn', columns='Product', \n",
    "                            values='Customer_ID', aggfunc='count', fill_value=0)\n",
    "# Get Proportion Churn by Product\n",
    "plot_prod = data_piv.count().sort_values(ascending=False).head().index\n",
    "\n",
    "# Pie Chart\n",
    "data_piv = data_piv.reindex(columns=plot_prod)\n",
    "data_piv.plot.pie(subplots=True, figsize = (10,7), layout = (-1,2), \n",
    "                  autopct = '%1.0f%%', title='Proportion Churn by Product')\n",
    "plt.tight_layout()\n",
    "plt.show()\n"
   ]
  },
  {
   "cell_type": "markdown",
   "id": "1cef7fe3",
   "metadata": {},
   "source": [
    "### Distribution of categorization of count transactions"
   ]
  },
  {
   "cell_type": "code",
   "execution_count": 19,
   "id": "b1f1ae76",
   "metadata": {},
   "outputs": [
    {
     "data": {
      "image/png": "[encoded data removed]",
      "text/plain": [
       "<Figure size 432x288 with 1 Axes>"
      ]
     },
     "metadata": {
      "needs_background": "light"
     },
     "output_type": "display_data"
    }
   ],
   "source": [
    "plt.clf()\n",
    "# Categorization of transaction amount\n",
    "def func(row):\n",
    "    if row['Count_Transaction'] == 1:\n",
    "        val = '1'\n",
    "    elif (row['Count_Transaction'] > 1 and row['Count_Transaction'] <= 3):\n",
    "        val = '2 - 3'\n",
    "    elif (row['Count_Transaction'] > 3 and row['Count_Transaction'] <= 6):\n",
    "        val = '4 - 6'\n",
    "    elif (row['Count_Transaction'] > 6 and row['Count_Transaction'] <= 10):\n",
    "        val = '7 - 10'\n",
    "    else:\n",
    "        val = '>10'\n",
    "    return val\n",
    "\n",
    "# Add New Column\n",
    "data['Count_Transaction_Group'] = data.apply(func, axis=1)\n",
    "\n",
    "data_year = data.groupby(['Count_Transaction_Group'])['Customer_ID'].count()\n",
    "data_year.plot(x='Count_Transaction_Group', y='Customer_ID', kind='bar', \n",
    "               title='Customer Distribution by Count Transaction Group')\n",
    "plt.xlabel('Count Transaction Group')\n",
    "plt.ylabel('Num of Customer')\n",
    "plt.tight_layout()\n",
    "plt.show()"
   ]
  },
  {
   "cell_type": "markdown",
   "id": "1a470761",
   "metadata": {},
   "source": [
    "### Distribution of categorization of average transaction amount"
   ]
  },
  {
   "cell_type": "code",
   "execution_count": 20,
   "id": "30e8b3ad",
   "metadata": {},
   "outputs": [
    {
     "data": {
      "image/png": "[encoded data removed]",
      "text/plain": [
       "<Figure size 432x288 with 1 Axes>"
      ]
     },
     "metadata": {
      "needs_background": "light"
     },
     "output_type": "display_data"
    }
   ],
   "source": [
    "plt.clf()\n",
    "# Categorization of the average transaction size\n",
    "def f(row):\n",
    "    if (row['Average_Transaction_Amount'] >= 100000 and row['Average_Transaction_Amount'] <= 200000):\n",
    "        val = '100.000 - 250.000'\n",
    "    elif (row['Average_Transaction_Amount'] > 250000 and row['Average_Transaction_Amount'] <= 500000):\n",
    "        val = '250.000 - 500.000'\n",
    "    elif (row['Average_Transaction_Amount'] > 500000 and row['Average_Transaction_Amount'] <= 750000):\n",
    "        val = '500.000 - 750.000'\n",
    "    elif (row['Average_Transaction_Amount'] > 750000 and row['Average_Transaction_Amount'] <= 1000000):\n",
    "        val = '750.000 - 1.000.000'\n",
    "    elif (row['Average_Transaction_Amount'] > 1000000 and row['Average_Transaction_Amount'] <= 2500000):\n",
    "        val = '1.000.000 - 2.500.000'\n",
    "    elif (row['Average_Transaction_Amount'] > 2500000 and row['Average_Transaction_Amount'] <= 5000000):\n",
    "        val = '2.500.000 - 5.000.000'\n",
    "    elif (row['Average_Transaction_Amount'] > 5000000 and row['Average_Transaction_Amount'] <= 10000000):\n",
    "        val = '5.000.000 - 10.000.000'\n",
    "    else:\n",
    "        val = '>10.000.000'\n",
    "    return val\n",
    "\n",
    "# Add new column\n",
    "data['Avg_Transaction_Amount_Group'] = data.apply(f, axis=1)\n",
    "\n",
    "data_year = data.groupby('Avg_Transaction_Amount_Group')['Customer_ID'].count().sort_values()\n",
    "data_year.plot(x='Avg_Transaction_Amount_Group', y='Customer_ID', \n",
    "               kind='bar', title='Customer Distribution by Average Transaction Amount Group')\n",
    "plt.xlabel('Avg Transaction Amount')\n",
    "plt.ylabel('Number of Customer')\n",
    "plt.tight_layout()\n",
    "plt.show()"
   ]
  },
  {
   "cell_type": "markdown",
   "id": "65bde0b1",
   "metadata": {},
   "source": [
    "### Modelling"
   ]
  },
  {
   "cell_type": "markdown",
   "id": "015f7de6",
   "metadata": {},
   "source": [
    "### Feature Columns dan Target"
   ]
  },
  {
   "cell_type": "code",
   "execution_count": 21,
   "id": "20eea304",
   "metadata": {},
   "outputs": [],
   "source": [
    "# Create column Year Diff\n",
    "data['Year_Diff'] = data['Year_Last_Transaction'] - data['Year_First_Transaction']\n",
    "\n",
    "# Names of feature column\n",
    "feature_col = ['Average_Transaction_Amount', 'Count_Transaction', 'Year_Diff']\n",
    "\n",
    "# Feature Variable\n",
    "X = data[feature_col]\n",
    "\n",
    "# Targer Variable\n",
    "y = data['is_churn']"
   ]
  },
  {
   "cell_type": "markdown",
   "id": "be5ea700",
   "metadata": {},
   "source": [
    "### Split X and y into training and testing sections"
   ]
  },
  {
   "cell_type": "code",
   "execution_count": 22,
   "id": "5c06331a",
   "metadata": {},
   "outputs": [],
   "source": [
    "X_train, X_test, y_train, y_test = train_test_split(X, y, test_size=0.25, random_state=0)"
   ]
  },
  {
   "cell_type": "markdown",
   "id": "fd5e50f6",
   "metadata": {},
   "source": [
    "### Train, Predict dan Evaluate"
   ]
  },
  {
   "cell_type": "code",
   "execution_count": 23,
   "id": "c61fbaf6",
   "metadata": {},
   "outputs": [
    {
     "data": {
      "text/plain": [
       "array([[    1,  8330],\n",
       "       [    3, 16666]], dtype=int64)"
      ]
     },
     "execution_count": 23,
     "metadata": {},
     "output_type": "execute_result"
    }
   ],
   "source": [
    "# Logreg model initiation\n",
    "logreg = LogisticRegression()\n",
    "\n",
    "# Fit the model with data\n",
    "logreg.fit(X_train, y_train)\n",
    "\n",
    "# Predict model\n",
    "y_pred = logreg.predict(X_test)\n",
    "\n",
    "# Model evaluation using confusion matrix\n",
    "cnf_matrix = confusion_matrix(y_test, y_pred)\n",
    "cnf_matrix"
   ]
  },
  {
   "cell_type": "markdown",
   "id": "6578a8b2",
   "metadata": {},
   "source": [
    "### Confusion Matrix Visualization"
   ]
  },
  {
   "cell_type": "code",
   "execution_count": 24,
   "id": "6b29ee25",
   "metadata": {},
   "outputs": [
    {
     "data": {
      "text/plain": [
       "<Figure size 432x288 with 0 Axes>"
      ]
     },
     "metadata": {},
     "output_type": "display_data"
    },
    {
     "data": {
      "image/png": "[encoded data removed]",
      "text/plain": [
       "<Figure size 432x288 with 2 Axes>"
      ]
     },
     "metadata": {
      "needs_background": "light"
     },
     "output_type": "display_data"
    }
   ],
   "source": [
    "plt.clf()\n",
    "\n",
    "# name of classes\n",
    "class_name = [0, 1]\n",
    "fig, ax = plt.subplots()\n",
    "\n",
    "tick_marks = np.arange(len(class_name))\n",
    "plt.xticks(tick_marks, class_name)\n",
    "plt.yticks(tick_marks, class_name)\n",
    "\n",
    "# Create Heatmap\n",
    "sns.heatmap(pd.DataFrame(cnf_matrix), annot=True, cmap='winter', fmt='g')\n",
    "ax.xaxis.set_label_position('top')\n",
    "plt.title('Confusion Matrix', y=1.1)\n",
    "plt.xlabel('Actual')\n",
    "plt.ylabel('Predicted')\n",
    "plt.tight_layout()\n",
    "plt.show()"
   ]
  },
  {
   "cell_type": "markdown",
   "id": "0536a31f",
   "metadata": {},
   "source": [
    "### Accuracy, Precision, dan Recall"
   ]
  },
  {
   "cell_type": "code",
   "execution_count": 25,
   "id": "9274d490",
   "metadata": {},
   "outputs": [
    {
     "name": "stdout",
     "output_type": "stream",
     "text": [
      "Accuracy : 0.66668\n",
      "Precision: 0.66668\n",
      "Recall   : 0.66668\n"
     ]
    }
   ],
   "source": [
    "print('Accuracy :', accuracy_score(y_test, y_pred))\n",
    "print('Precision:', precision_score(y_test, y_pred, average='micro'))\n",
    "print('Recall   :', recall_score(y_test, y_pred, average='micro'))"
   ]
  },
  {
   "cell_type": "code",
   "execution_count": null,
   "id": "9c2ab8b9",
   "metadata": {},
   "outputs": [],
   "source": []
  }
 ],
 "metadata": {
  "kernelspec": {
   "display_name": "Python 3",
   "language": "python",
   "name": "python3"
  },
  "language_info": {
   "codemirror_mode": {
    "name": "ipython",
    "version": 3
   },
   "file_extension": ".py",
   "mimetype": "text/x-python",
   "name": "python",
   "nbconvert_exporter": "python",
   "pygments_lexer": "ipython3",
   "version": "3.8.8"
  }
 },
 "nbformat": 4,
 "nbformat_minor": 5
}
